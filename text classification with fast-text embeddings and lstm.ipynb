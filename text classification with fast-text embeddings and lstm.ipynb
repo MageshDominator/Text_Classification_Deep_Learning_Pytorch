{
 "cells": [
  {
   "cell_type": "code",
   "execution_count": 1,
   "metadata": {},
   "outputs": [
    {
     "name": "stderr",
     "output_type": "stream",
     "text": [
      "I0325 08:12:00.750314 140435103909696 file_utils.py:32] TensorFlow version 2.1.0 available.\n",
      "I0325 08:12:00.751554 140435103909696 file_utils.py:39] PyTorch version 1.4.0 available.\n",
      "I0325 08:12:01.034390 140435103909696 modeling_xlnet.py:194] Better speed can be achieved with apex installed from https://www.github.com/nvidia/apex .\n"
     ]
    }
   ],
   "source": [
    "import torch\n",
    "import torchtext\n",
    "from torchtext import data\n",
    "\n",
    "TEXT = data.Field(tokenize=\"spacy\", batch_first=True, include_lengths=True)\n",
    "LABEL = data.LabelField(dtype=torch.float, batch_first=True)"
   ]
  },
  {
   "cell_type": "code",
   "execution_count": 2,
   "metadata": {},
   "outputs": [],
   "source": [
    "device = torch.device(\"cuda\" if torch.cuda.is_available() else \"cpu\")"
   ]
  },
  {
   "cell_type": "code",
   "execution_count": 3,
   "metadata": {},
   "outputs": [],
   "source": [
    "fields = [('label', LABEL), (None, None), ('text',TEXT)]"
   ]
  },
  {
   "cell_type": "code",
   "execution_count": 4,
   "metadata": {},
   "outputs": [],
   "source": [
    "training_data=data.TabularDataset(path = 'AG_news/train.csv',format = 'csv',fields = fields,skip_header = True)"
   ]
  },
  {
   "cell_type": "code",
   "execution_count": 5,
   "metadata": {},
   "outputs": [
    {
     "name": "stdout",
     "output_type": "stream",
     "text": [
      "{'label': '3', 'text': ['Reuters', '-', 'Short', '-', 'sellers', ',', 'Wall', 'Street', \"'s\", 'dwindling\\\\band', 'of', 'ultra', '-', 'cynics', ',', 'are', 'seeing', 'green', 'again', '.']}\n"
     ]
    }
   ],
   "source": [
    "print(vars(training_data.examples[0]))"
   ]
  },
  {
   "cell_type": "code",
   "execution_count": 7,
   "metadata": {},
   "outputs": [],
   "source": [
    "train_data, valid_data = training_data.split(split_ratio=0.1)"
   ]
  },
  {
   "cell_type": "code",
   "execution_count": 14,
   "metadata": {},
   "outputs": [
    {
     "name": "stderr",
     "output_type": "stream",
     "text": [
      "I0325 08:20:09.503787 140435103909696 vocab.py:431] Loading vectors from .vector_cache/wiki.simple.vec.pt\n"
     ]
    },
    {
     "name": "stdout",
     "output_type": "stream",
     "text": [
      "Size of TEXT vocabulary: 11561\n",
      "Size of LABEL vocabulary: 4\n",
      "[('the', 17182), (',', 14373), ('.', 13113), ('-', 9665), ('a', 9615), ('to', 9489), ('of', 8869), ('in', 7655), ('and', 6378), ('on', 4556)]\n"
     ]
    }
   ],
   "source": [
    "#initialize glove embeddings\n",
    "TEXT.build_vocab(train_data,min_freq=3,vectors = \"fasttext.simple.300d\")  \n",
    "LABEL.build_vocab(train_data)\n",
    "\n",
    "#No. of unique tokens in text\n",
    "print(\"Size of TEXT vocabulary:\",len(TEXT.vocab))\n",
    "\n",
    "#No. of unique tokens in label\n",
    "print(\"Size of LABEL vocabulary:\",len(LABEL.vocab))\n",
    "\n",
    "#Commonly used words\n",
    "print(TEXT.vocab.freqs.most_common(10))  \n",
    "\n",
    "#Word dictionary\n",
    "# print(TEXT.vocab.stoi)   "
   ]
  },
  {
   "cell_type": "code",
   "execution_count": 15,
   "metadata": {},
   "outputs": [
    {
     "name": "stderr",
     "output_type": "stream",
     "text": [
      "\r",
      "100%|█████████▉| 110761/111051 [00:30<00:00, 8445.62it/s]"
     ]
    }
   ],
   "source": [
    "batch_size = 64\n",
    "\n",
    "train_iterator, valid_iterator = data.BucketIterator.splits((train_data, valid_data), batch_size=batch_size,\n",
    "                                                           sort_key=lambda x: len(x.text),\n",
    "                                                           sort_within_batch=True,\n",
    "                                                           device=device)"
   ]
  },
  {
   "cell_type": "code",
   "execution_count": 128,
   "metadata": {},
   "outputs": [],
   "source": [
    "# Create neural network representation\n",
    "import torch.nn as nn\n",
    "import torch.nn.functional as F\n",
    "from torch.autograd import Variable\n",
    "\n",
    "class TextClassification(nn.Module):\n",
    "    def __init__(self, vocabulary_size, embedding_size, num_class, lstm=True, hidden_size=100, num_layers=2, bidirectional=True, dropout=0.4):\n",
    "        super().__init__()\n",
    "        self.dropout = dropout\n",
    "        self.lstm = lstm\n",
    "        \n",
    "        if lstm:\n",
    "            self.embedding = nn.Embedding(vocabulary_size, embedding_size)\n",
    "            self.rnn = nn.LSTM(embedding_size, hidden_size, num_layers, bidirectional=bidirectional,\n",
    "                              dropout=dropout, batch_first=True)\n",
    "\n",
    "            if bidirectional:\n",
    "                self.fc = nn.Linear(hidden_size*2, num_class)\n",
    "            else:\n",
    "                self.fc = nn.Linear(hidden_size, num_class)\n",
    "        \n",
    "        else:\n",
    "            self.embedding = nn.EmbeddingBag(vocabulary_size, embedding_size)\n",
    "            self.fc = nn.Linear(embedding_size, num_class)\n",
    "        \n",
    "        self.softmax = nn.LogSoftmax(dim=-1)\n",
    "        self.init_weights()\n",
    "        \n",
    "    def init_weights(self):\n",
    "        initrange = 0.5\n",
    "        \n",
    "        if self.lstm:\n",
    "            for name, param in self.rnn.named_parameters():\n",
    "                if 'bias' in name:\n",
    "                    nn.init.constant_(param, 0.0)\n",
    "                elif 'weight' in name:\n",
    "                    nn.init.xavier_normal_(param)\n",
    "        \n",
    "        self.fc.weight.data.uniform_(-initrange, initrange)\n",
    "        self.fc.bias.data.zero_()\n",
    "        \n",
    "    def forward(self, text, text_lengths):\n",
    "        emb = self.embedding(text)\n",
    "        \n",
    "        if self.lstm:\n",
    "            packed_embedded = nn.utils.rnn.pack_padded_sequence(emb, text_lengths, batch_first=True)\n",
    "            packed_output, (hidden, cell) = self.rnn(packed_embedded)\n",
    "\n",
    "            hidden = torch.cat((hidden[-2,:,:], hidden[-1,:,:]), dim = 1)\n",
    "\n",
    "            fc = self.fc(hidden)\n",
    "        \n",
    "        else:\n",
    "            packed_embedded = nn.utils.rnn.pad_sequence(emb,batch_first=True)\n",
    "            fc = self.fc(packed_embedded)\n",
    "            \n",
    "        return self.softmax(fc)\n",
    "        "
   ]
  },
  {
   "cell_type": "code",
   "execution_count": 129,
   "metadata": {},
   "outputs": [],
   "source": [
    "vocabulary_size = len(TEXT.vocab)\n",
    "n_class = len(LABEL.vocab)\n",
    "embedding_size = 300\n",
    "hidden_counts = 75\n",
    "n_layers = 2\n",
    "bidirectional = True\n",
    "dropout = 0.4\n",
    "lstm = True\n",
    "\n",
    "model = TextClassification(vocabulary_size, embedding_size, n_class, lstm=lstm, hidden_size=hidden_counts, num_layers=n_layers, bidirectional=bidirectional, dropout=dropout)"
   ]
  },
  {
   "cell_type": "code",
   "execution_count": 130,
   "metadata": {},
   "outputs": [
    {
     "data": {
      "text/plain": [
       "tensor([[ 0.0000,  0.0000,  0.0000,  ...,  0.0000,  0.0000,  0.0000],\n",
       "        [ 0.0000,  0.0000,  0.0000,  ...,  0.0000,  0.0000,  0.0000],\n",
       "        [ 0.0104, -0.1829,  0.0761,  ..., -0.1362, -0.2240, -0.0552],\n",
       "        ...,\n",
       "        [ 0.0000,  0.0000,  0.0000,  ...,  0.0000,  0.0000,  0.0000],\n",
       "        [ 0.6078,  0.2664,  0.2431,  ...,  0.2866,  0.1220,  0.1763],\n",
       "        [ 0.6539, -0.0272, -0.4260,  ..., -0.0408,  0.5972, -0.1600]])"
      ]
     },
     "execution_count": 130,
     "metadata": {},
     "output_type": "execute_result"
    }
   ],
   "source": [
    "pretrained_embeddings = TEXT.vocab.vectors\n",
    "model.embedding.weight.data.copy_(pretrained_embeddings)"
   ]
  },
  {
   "cell_type": "code",
   "execution_count": 131,
   "metadata": {},
   "outputs": [],
   "source": [
    "def training(model, iterator, optimizer, criterion):\n",
    "    training_loss = 0\n",
    "    training_accuracy = 0\n",
    "    \n",
    "    model.train()\n",
    "    \n",
    "    for batch in iterator:\n",
    "        optimizer.zero_grad()\n",
    "        \n",
    "        text, text_lengths = batch.text\n",
    "        target = batch.label\n",
    "        target = torch.autograd.Variable(target).long()\n",
    "        \n",
    "        output = model(text, text_lengths).squeeze()\n",
    "        \n",
    "        loss = criterion(output, target)\n",
    "        \n",
    "        training_loss += loss.item()\n",
    "        \n",
    "        loss.backward()\n",
    "        optimizer.step()\n",
    "        \n",
    "        num_corrects = (torch.max(output, 1)[1].view(target.size()).data == target.data).float().sum()\n",
    "\n",
    "        acc = num_corrects/len(batch)\n",
    "        training_accuracy += acc.item()\n",
    "\n",
    "    scheduler.step()\n",
    "    \n",
    "    return training_loss / len(iterator), training_accuracy / len(iterator)\n",
    "\n",
    "def testing(model, iterator, optimizer, criterion):\n",
    "    testing_loss = 0\n",
    "    testing_accuracy = 0\n",
    "    model.eval()\n",
    "    \n",
    "    for batch in iterator:\n",
    "        text, text_lengths = batch.text\n",
    "        target = batch.label\n",
    "        target = torch.autograd.Variable(target).long()\n",
    "        \n",
    "        with torch.no_grad():\n",
    "            output = model(text, text_lengths).squeeze()\n",
    "            loss = criterion(output, target)\n",
    "            \n",
    "            testing_loss += loss.item()\n",
    "            num_corrects = (torch.max(output, 1)[1].view(target.size()).data == target.data).float().sum()\n",
    "            acc = num_corrects/len(batch)\n",
    "        \n",
    "            testing_accuracy += acc.item()\n",
    "            \n",
    "    return testing_loss / len(iterator), testing_accuracy / len(iterator)"
   ]
  },
  {
   "cell_type": "code",
   "execution_count": 137,
   "metadata": {},
   "outputs": [
    {
     "name": "stdout",
     "output_type": "stream",
     "text": [
      "Epoch: 1  | time in 2 minutes, 24 seconds\n",
      "\tLoss: 0.3014(train)\t|\tAcc: 89.62%(train)\n",
      "\tLoss: 0.4076(valid)\t|\tAcc: 86.62%(valid)\n",
      "Epoch: 2  | time in 2 minutes, 17 seconds\n",
      "\tLoss: 0.2233(train)\t|\tAcc: 92.46%(train)\n",
      "\tLoss: 0.4165(valid)\t|\tAcc: 86.96%(valid)\n",
      "Epoch: 3  | time in 2 minutes, 18 seconds\n",
      "\tLoss: 0.1721(train)\t|\tAcc: 94.41%(train)\n",
      "\tLoss: 0.3858(valid)\t|\tAcc: 87.84%(valid)\n",
      "Epoch: 4  | time in 2 minutes, 11 seconds\n",
      "\tLoss: 0.1348(train)\t|\tAcc: 95.75%(train)\n",
      "\tLoss: 0.4115(valid)\t|\tAcc: 87.74%(valid)\n",
      "Epoch: 5  | time in 2 minutes, 21 seconds\n",
      "\tLoss: 0.1115(train)\t|\tAcc: 96.39%(train)\n",
      "\tLoss: 0.4441(valid)\t|\tAcc: 87.72%(valid)\n",
      "Epoch: 6  | time in 2 minutes, 7 seconds\n",
      "\tLoss: 0.0872(train)\t|\tAcc: 97.44%(train)\n",
      "\tLoss: 0.4970(valid)\t|\tAcc: 87.74%(valid)\n",
      "Epoch: 7  | time in 2 minutes, 17 seconds\n",
      "\tLoss: 0.0705(train)\t|\tAcc: 97.89%(train)\n",
      "\tLoss: 0.5082(valid)\t|\tAcc: 87.69%(valid)\n",
      "Epoch: 8  | time in 2 minutes, 13 seconds\n",
      "\tLoss: 0.0561(train)\t|\tAcc: 98.51%(train)\n",
      "\tLoss: 0.5641(valid)\t|\tAcc: 87.66%(valid)\n"
     ]
    }
   ],
   "source": [
    "import time\n",
    "\n",
    "n_epochs = 8\n",
    "min_val_loss = float(\"inf\")\n",
    "\n",
    "criterion = nn.CrossEntropyLoss().to(device)\n",
    "optimizer = torch.optim.SGD(model.parameters(), lr=2)\n",
    "scheduler = torch.optim.lr_scheduler.StepLR(optimizer, 1, gamma=0.9)\n",
    "if lstm:\n",
    "    path='AG_news/model/saved_weights_fasttext_lstm.pt'\n",
    "else:\n",
    "    path='AG_news/model/saved_weights_fasttext.pt'\n",
    "            \n",
    "for epoch in range(n_epochs):\n",
    "    start_time = time.time()\n",
    "    \n",
    "    train_loss, train_acc = training(model, train_iterator, optimizer, criterion)\n",
    "    val_loss, val_acc = testing(model, valid_iterator, optimizer, criterion)\n",
    "    \n",
    "    secs = int(time.time() - start_time)\n",
    "    mins = secs / 60\n",
    "    secs = secs % 60\n",
    "\n",
    "    print('Epoch: %d' %(epoch + 1), \" | time in %d minutes, %d seconds\" %(mins, secs))\n",
    "    print(f'\\tLoss: {train_loss:.4f}(train)\\t|\\tAcc: {train_acc * 100:.2f}%(train)')\n",
    "    print(f'\\tLoss: {val_loss:.4f}(valid)\\t|\\tAcc: {val_acc * 100:.2f}%(valid)')\n",
    "    \n",
    "    if val_loss < min_val_loss:\n",
    "        min_val_loss = val_loss\n",
    "        torch.save(model.state_dict(), path)"
   ]
  },
  {
   "cell_type": "code",
   "execution_count": 138,
   "metadata": {},
   "outputs": [],
   "source": [
    "testing_data=data.TabularDataset(path = 'AG_news/test.csv',format = 'csv',fields = fields,skip_header = True)"
   ]
  },
  {
   "cell_type": "code",
   "execution_count": 139,
   "metadata": {},
   "outputs": [],
   "source": [
    "testing_iterator = data.BucketIterator(testing_data, batch_size=batch_size,\n",
    "                                                           sort_key=lambda x: len(x.text),\n",
    "                                                           sort_within_batch=True,\n",
    "                                                           device=device)"
   ]
  },
  {
   "cell_type": "code",
   "execution_count": 140,
   "metadata": {},
   "outputs": [],
   "source": [
    "model.load_state_dict(torch.load(path))\n",
    "\n",
    "def predict(model, iterator):\n",
    "    testing_accuracy = 0\n",
    "    model.eval()\n",
    "    \n",
    "    for batch in iterator:\n",
    "        text, text_lengths = batch.text\n",
    "        # text = TEXT.preprocess(text)\n",
    "        label = batch.label\n",
    "        target = torch.autograd.Variable(label).long()\n",
    "        with torch.no_grad():\n",
    "            output = model(text, text_lengths).squeeze()\n",
    "            num_corrects = (torch.max(output, 1)[1].view(target.size()).data == target.data).float().sum()\n",
    "            acc = num_corrects / len(batch)\n",
    "            testing_accuracy += acc.item()\n",
    "    \n",
    "    return testing_accuracy / len(iterator)"
   ]
  },
  {
   "cell_type": "code",
   "execution_count": 141,
   "metadata": {},
   "outputs": [
    {
     "name": "stdout",
     "output_type": "stream",
     "text": [
      "Accuracy 87.60\n"
     ]
    }
   ],
   "source": [
    "test_acc = predict(model, testing_iterator)\n",
    "print(f\"Accuracy {test_acc * 100:.2f}\")"
   ]
  },
  {
   "cell_type": "code",
   "execution_count": null,
   "metadata": {},
   "outputs": [],
   "source": []
  }
 ],
 "metadata": {
  "kernelspec": {
   "display_name": "Python 3",
   "language": "python",
   "name": "python3"
  },
  "language_info": {
   "codemirror_mode": {
    "name": "ipython",
    "version": 3
   },
   "file_extension": ".py",
   "mimetype": "text/x-python",
   "name": "python",
   "nbconvert_exporter": "python",
   "pygments_lexer": "ipython3",
   "version": "3.6.8"
  }
 },
 "nbformat": 4,
 "nbformat_minor": 2
}
