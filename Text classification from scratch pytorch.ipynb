{
 "cells": [
  {
   "cell_type": "code",
   "execution_count": 1,
   "metadata": {},
   "outputs": [
    {
     "name": "stderr",
     "output_type": "stream",
     "text": [
      "ag_news_csv.tar.gz: 11.8MB [00:04, 2.52MB/s]\n",
      "120000lines [00:08, 13810.63lines/s]\n",
      "120000lines [00:17, 6743.83lines/s]\n",
      "7600lines [00:01, 6452.86lines/s]\n"
     ]
    }
   ],
   "source": [
    "import torch\n",
    "import torchtext\n",
    "from torchtext.datasets import text_classification\n",
    "\n",
    "import os\n",
    "if not os.path.isdir('./.data'):\n",
    "    os.mkdir('./.data')\n",
    "train_dataset, test_dataset = text_classification.DATASETS['AG_NEWS'](\n",
    "    root='./.data', vocab=None)\n",
    "BATCH_SIZE = 16"
   ]
  },
  {
   "cell_type": "code",
   "execution_count": 20,
   "metadata": {},
   "outputs": [],
   "source": [
    "device = torch.device(\"cuda\" if torch.cuda.is_available() else \"cpu\")"
   ]
  },
  {
   "cell_type": "markdown",
   "metadata": {},
   "source": [
    "### Create Validation split"
   ]
  },
  {
   "cell_type": "code",
   "execution_count": 2,
   "metadata": {},
   "outputs": [],
   "source": [
    "from torch.utils.data.dataset import random_split\n",
    "\n",
    "train_size = int(len(train_dataset) * 0.95)\n",
    "\n",
    "training_set, validation_set = random_split(train_dataset, [train_size, int(len(train_dataset)) - train_size])"
   ]
  },
  {
   "cell_type": "code",
   "execution_count": 185,
   "metadata": {},
   "outputs": [],
   "source": [
    "# Create a generator function\n",
    "\n",
    "def generate_batch(batch):\n",
    "    label = torch.tensor([entry[0] for entry in batch])\n",
    "    text = [entry[1] for entry in batch]\n",
    "    \n",
    "    # Since text data has variable length find the offset to find starting index of a new sentence\n",
    "    offset = [0] + [len(entry) for entry in text]\n",
    "    \n",
    "    offset = torch.tensor(offset[:-1]).cumsum(dim=0)\n",
    "    \n",
    "    text = torch.cat(text)\n",
    "    return text, offset, label"
   ]
  },
  {
   "cell_type": "code",
   "execution_count": 200,
   "metadata": {},
   "outputs": [],
   "source": [
    "# Create neural network representation\n",
    "import torch.nn as nn\n",
    "import torch.nn.functional as F\n",
    "from torch.autograd import Variable\n",
    "\n",
    "class TextClassification(nn.Module):\n",
    "    def __init__(self, vocabulary_size, embedding_size, num_class):\n",
    "        super().__init__()\n",
    "        self.embedding_size = embedding_size\n",
    "        self.embedding = nn.EmbeddingBag(vocabulary_size, embedding_size, sparse=True)\n",
    "        self.fc = nn.Linear(embedding_size, num_class)\n",
    "        self.softmax = nn.LogSoftmax(dim=-1)\n",
    "        self.init_weights()\n",
    "        \n",
    "    def init_weights(self):\n",
    "        initrange = 0.5\n",
    "        self.embedding.weight.data.uniform_(-initrange, initrange)\n",
    "        self.fc.weight.data.uniform_(-initrange, initrange)\n",
    "        self.fc.bias.data.zero_()\n",
    "        \n",
    "    def forward(self, text, offset):\n",
    "        emb = self.embedding(text, offset)\n",
    "        fc = self.fc(emb)\n",
    "        return self.softmax(fc)\n",
    "        "
   ]
  },
  {
   "cell_type": "code",
   "execution_count": 201,
   "metadata": {},
   "outputs": [],
   "source": [
    "from torch.utils.data import DataLoader\n",
    "\n",
    "vocab_size = len(train_dataset.get_vocab())\n",
    "emb_size = 100\n",
    "num_class = len(train_dataset.get_labels())\n",
    "batch_size = 32\n",
    "\n",
    "model = TextClassification(vocab_size, emb_size, num_class).to(device)"
   ]
  },
  {
   "cell_type": "code",
   "execution_count": 202,
   "metadata": {},
   "outputs": [],
   "source": [
    "def training(dataset, batch_size):\n",
    "    training_loss = 0\n",
    "    training_accuracy = 0\n",
    "    \n",
    "    data = DataLoader(dataset, batch_size, shuffle=True, collate_fn=generate_batch)\n",
    "    \n",
    "    for i, (text, offset, cls) in enumerate(data):\n",
    "        optimizer.zero_grad()\n",
    "        \n",
    "        text, offset, cls = text.to(device), offset.to(device), cls.to(device)\n",
    "        \n",
    "        output = model(text, offset)\n",
    "        \n",
    "        loss = criterion(output, cls)\n",
    "        \n",
    "        training_loss += loss.item()\n",
    "        \n",
    "        loss.backward()\n",
    "        optimizer.step()\n",
    "        training_accuracy += (output.argmax(1) == cls).sum().item()\n",
    "    \n",
    "    scheduler.step()\n",
    "    \n",
    "    return training_loss / len(dataset), training_accuracy / len(dataset)\n",
    "\n",
    "def testing(dataset, batch):\n",
    "    testing_loss = 0\n",
    "    testing_accuracy = 0\n",
    "    \n",
    "    data = DataLoader(dataset, batch_size, shuffle=True, collate_fn=generate_batch)\n",
    "    \n",
    "    for text, offset, cls in data:\n",
    "        text, offset, cls = text.to(device), offset.to(device), cls.to(device)\n",
    "        \n",
    "        with torch.no_grad():\n",
    "            output = model(text, offset)\n",
    "            loss = criterion(output, cls)\n",
    "            \n",
    "            testing_loss += loss.item()\n",
    "            testing_accuracy += (output.argmax(1) == cls).sum().item()\n",
    "    \n",
    "    return testing_loss / len(dataset), testing_accuracy / len(dataset)"
   ]
  },
  {
   "cell_type": "code",
   "execution_count": 203,
   "metadata": {},
   "outputs": [
    {
     "name": "stdout",
     "output_type": "stream",
     "text": [
      "Epoch: 1  | time in 0 minutes, 28 seconds\n",
      "\tLoss: 0.0141(train)\t|\tAcc: 83.7%(train)\n",
      "\tLoss: 0.0071(valid)\t|\tAcc: 92.5%(valid)\n",
      "Epoch: 2  | time in 0 minutes, 25 seconds\n",
      "\tLoss: 0.0070(train)\t|\tAcc: 92.6%(train)\n",
      "\tLoss: 0.0044(valid)\t|\tAcc: 95.6%(valid)\n",
      "Epoch: 3  | time in 0 minutes, 31 seconds\n",
      "\tLoss: 0.0047(train)\t|\tAcc: 95.2%(train)\n",
      "\tLoss: 0.0030(valid)\t|\tAcc: 97.1%(valid)\n",
      "Epoch: 4  | time in 0 minutes, 29 seconds\n",
      "\tLoss: 0.0031(train)\t|\tAcc: 96.9%(train)\n",
      "\tLoss: 0.0030(valid)\t|\tAcc: 96.8%(valid)\n",
      "Epoch: 5  | time in 0 minutes, 31 seconds\n",
      "\tLoss: 0.0020(train)\t|\tAcc: 98.2%(train)\n",
      "\tLoss: 0.0014(valid)\t|\tAcc: 98.9%(valid)\n"
     ]
    }
   ],
   "source": [
    "import time\n",
    "\n",
    "n_epochs = 5\n",
    "min_val_loss = float(\"inf\")\n",
    "\n",
    "criterion = nn.CrossEntropyLoss().to(device)\n",
    "optimizer = torch.optim.SGD(model.parameters(), lr=4.0)\n",
    "scheduler = torch.optim.lr_scheduler.StepLR(optimizer, 1, gamma=0.9)\n",
    "\n",
    "for epoch in range(n_epochs):\n",
    "    start_time = time.time()\n",
    "    \n",
    "    train_loss, train_acc = training(train_dataset, batch_size)\n",
    "    val_loss, val_acc = testing(validation_set, batch_size)\n",
    "    \n",
    "    secs = int(time.time() - start_time)\n",
    "    mins = secs / 60\n",
    "    secs = secs % 60\n",
    "\n",
    "    print('Epoch: %d' %(epoch + 1), \" | time in %d minutes, %d seconds\" %(mins, secs))\n",
    "    print(f'\\tLoss: {train_loss:.4f}(train)\\t|\\tAcc: {train_acc * 100:.1f}%(train)')\n",
    "    print(f'\\tLoss: {val_loss:.4f}(valid)\\t|\\tAcc: {val_acc * 100:.1f}%(valid)')"
   ]
  },
  {
   "cell_type": "code",
   "execution_count": 204,
   "metadata": {},
   "outputs": [
    {
     "name": "stdout",
     "output_type": "stream",
     "text": [
      "Checking the results of test dataset...\n",
      "\tLoss: 0.0097(test)\t|\tAcc: 90.9%(test)\n"
     ]
    }
   ],
   "source": [
    "print('Checking the results of test dataset...')\n",
    "test_loss, test_acc = testing(test_dataset, batch_size)\n",
    "print(f'\\tLoss: {test_loss:.4f}(test)\\t|\\tAcc: {test_acc * 100:.1f}%(test)')"
   ]
  },
  {
   "cell_type": "code",
   "execution_count": null,
   "metadata": {},
   "outputs": [],
   "source": []
  }
 ],
 "metadata": {
  "kernelspec": {
   "display_name": "Python 3",
   "language": "python",
   "name": "python3"
  },
  "language_info": {
   "codemirror_mode": {
    "name": "ipython",
    "version": 3
   },
   "file_extension": ".py",
   "mimetype": "text/x-python",
   "name": "python",
   "nbconvert_exporter": "python",
   "pygments_lexer": "ipython3",
   "version": "3.6.8"
  }
 },
 "nbformat": 4,
 "nbformat_minor": 2
}
