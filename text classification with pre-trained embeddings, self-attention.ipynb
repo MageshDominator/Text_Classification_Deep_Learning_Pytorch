{
 "cells": [
  {
   "cell_type": "code",
   "execution_count": 1,
   "metadata": {},
   "outputs": [
    {
     "name": "stderr",
     "output_type": "stream",
     "text": [
      "I0327 14:43:52.492445 139798818404160 file_utils.py:32] TensorFlow version 2.1.0 available.\n",
      "I0327 14:43:52.493355 139798818404160 file_utils.py:39] PyTorch version 1.4.0 available.\n",
      "I0327 14:43:53.076410 139798818404160 modeling_xlnet.py:194] Better speed can be achieved with apex installed from https://www.github.com/nvidia/apex .\n"
     ]
    }
   ],
   "source": [
    "import torch\n",
    "import torchtext\n",
    "from torchtext import data\n",
    "\n",
    "TEXT = data.Field(tokenize=\"spacy\", batch_first=True, include_lengths=True)\n",
    "LABEL = data.LabelField(dtype=torch.float, batch_first=True)"
   ]
  },
  {
   "cell_type": "code",
   "execution_count": 2,
   "metadata": {},
   "outputs": [],
   "source": [
    "device = torch.device(\"cuda\" if torch.cuda.is_available() else \"cpu\")"
   ]
  },
  {
   "cell_type": "code",
   "execution_count": 3,
   "metadata": {},
   "outputs": [],
   "source": [
    "fields = [('label', LABEL), (None, None), ('text',TEXT)]"
   ]
  },
  {
   "cell_type": "code",
   "execution_count": 4,
   "metadata": {},
   "outputs": [],
   "source": [
    "training_data=data.TabularDataset(path = 'AG_news/train.csv',format = 'csv',fields = fields,skip_header = True)"
   ]
  },
  {
   "cell_type": "code",
   "execution_count": 5,
   "metadata": {},
   "outputs": [
    {
     "name": "stdout",
     "output_type": "stream",
     "text": [
      "{'label': '3', 'text': ['Reuters', '-', 'Short', '-', 'sellers', ',', 'Wall', 'Street', \"'s\", 'dwindling\\\\band', 'of', 'ultra', '-', 'cynics', ',', 'are', 'seeing', 'green', 'again', '.']}\n"
     ]
    }
   ],
   "source": [
    "print(vars(training_data.examples[0]))"
   ]
  },
  {
   "cell_type": "code",
   "execution_count": 6,
   "metadata": {},
   "outputs": [],
   "source": [
    "train_data, valid_data = training_data.split(split_ratio=0.1)"
   ]
  },
  {
   "cell_type": "code",
   "execution_count": 7,
   "metadata": {},
   "outputs": [
    {
     "name": "stderr",
     "output_type": "stream",
     "text": [
      "I0327 14:44:36.156149 139798818404160 vocab.py:431] Loading vectors from .vector_cache/glove.6B.100d.txt.pt\n"
     ]
    },
    {
     "name": "stdout",
     "output_type": "stream",
     "text": [
      "Size of TEXT vocabulary: 11540\n",
      "Size of LABEL vocabulary: 4\n",
      "[('the', 17397), (',', 14584), ('.', 13170), ('-', 10010), ('to', 9628), ('a', 9619), ('of', 8837), ('in', 7572), ('and', 6630), ('on', 4786)]\n"
     ]
    }
   ],
   "source": [
    "#initialize glove embeddings\n",
    "TEXT.build_vocab(train_data,min_freq=3,vectors = \"glove.6B.100d\")  \n",
    "LABEL.build_vocab(train_data)\n",
    "\n",
    "#No. of unique tokens in text\n",
    "print(\"Size of TEXT vocabulary:\",len(TEXT.vocab))\n",
    "\n",
    "#No. of unique tokens in label\n",
    "print(\"Size of LABEL vocabulary:\",len(LABEL.vocab))\n",
    "\n",
    "#Commonly used words\n",
    "print(TEXT.vocab.freqs.most_common(10))  \n",
    "\n",
    "#Word dictionary\n",
    "# print(TEXT.vocab.stoi)   "
   ]
  },
  {
   "cell_type": "code",
   "execution_count": 8,
   "metadata": {},
   "outputs": [],
   "source": [
    "batch_size = 64\n",
    "\n",
    "train_iterator, valid_iterator = data.BucketIterator.splits((train_data, valid_data), batch_size=batch_size,\n",
    "                                                           sort_key=lambda x: len(x.text),\n",
    "                                                           sort_within_batch=True,\n",
    "                                                           device=device)"
   ]
  },
  {
   "cell_type": "code",
   "execution_count": 9,
   "metadata": {},
   "outputs": [],
   "source": [
    "# Create neural network representation\n",
    "import torch.nn as nn\n",
    "import torch.nn.functional as F\n",
    "from torch.autograd import Variable\n",
    "import numpy as np"
   ]
  },
  {
   "cell_type": "code",
   "execution_count": 138,
   "metadata": {},
   "outputs": [],
   "source": [
    "class TextClassification(nn.Module):\n",
    "    def __init__(self, batch_size, vocabulary_size, embedding_size, hidden_size, num_layers, bidirectional, dropout, num_class):\n",
    "        super().__init__()\n",
    "        self.batch_size = batch_size\n",
    "        self.dropout = nn.Dropout(p=dropout)\n",
    "        self.hidden_size = hidden_size\n",
    "        self.embedding = nn.Embedding(vocabulary_size, embedding_size)\n",
    "        self.lstm_layer = num_layers\n",
    "        \n",
    "        self.rnn = nn.LSTM(self.embedding.embedding_dim, self.hidden_size, bidirectional=bidirectional, batch_first=True)\n",
    "        \n",
    "        if bidirectional:\n",
    "            self.W_s1 = nn.Linear(self.hidden_size*2, 350)\n",
    "            self.W_s2 = nn.Linear(350, 30)\n",
    "            self.fc1 = nn.Linear(30*self.hidden_size*2,\n",
    "                                               2000)\n",
    "            \n",
    "            self.fc2 = nn.Linear(2000, num_class)\n",
    "        \n",
    "        \n",
    "        else:\n",
    "            self.W_s1 = nn.Linear(self.hidden_size, 350)\n",
    "            self.W_s2 = nn.Linear(350, 30)\n",
    "            self.fc1 = nn.Linear(30*self.hidden_size,\n",
    "                                               2000)\n",
    "            self.fc2 = nn.Linear(2000, num_class)\n",
    "            \n",
    "        self.softmax = nn.LogSoftmax(dim=-2)\n",
    "#         self.init_weights()\n",
    "        \n",
    "#     def init_weights(self):\n",
    "#         initrange = 0.5\n",
    "        \n",
    "#         for rnn in [self.rnn]:\n",
    "#             for name, param in rnn.named_parameters():\n",
    "#                 if 'bias' in name:\n",
    "#                     nn.init.constant_(param, 0.0)\n",
    "#                 elif 'weight' in name:\n",
    "#                     nn.init.xavier_normal_(param)\n",
    "        \n",
    "#         for fc in [self.fc1, self.fc2]:\n",
    "#             fc.weight.data.uniform_(-initrange, initrange)\n",
    "#             fc.bias.data.zero_()\n",
    "\n",
    "    def forward(self, text, lengths):\n",
    "        emb = self.embedding(text)\n",
    "        emb = self.dropout(emb)\n",
    "        \n",
    "        packed_emb = nn.utils.rnn.pack_padded_sequence(emb, lengths, batch_first=True)\n",
    "        \n",
    "        output, (final_hidden_state, final_cell_state) = self.rnn(packed_emb)\n",
    "        x, lengths = nn.utils.rnn.pad_packed_sequence(output, batch_first=True)\n",
    "        \n",
    "        attn_weight_mat = self.W_s2(F.tanh(self.W_s1(x)))\n",
    "        attn_weight_mat = attn_weight_mat.permute(0, 2, 1)\n",
    "        attn_weight_mat = F.softmax(attn_weight_mat, dim=2)\n",
    "        \n",
    "        hidden_mat = torch.bmm(attn_weight_mat, x)\n",
    "         \n",
    "        fc_1 = self.fc1(hidden_mat.view(-1, hidden_mat.size()[1]*hidden_mat.size()[2]))\n",
    "        fc_2 = self.fc2(self.dropout(fc_1))\n",
    "        return self.softmax(fc_2)\n",
    "        "
   ]
  },
  {
   "cell_type": "code",
   "execution_count": 139,
   "metadata": {},
   "outputs": [],
   "source": [
    "vocabulary_size = len(TEXT.vocab)\n",
    "n_class = len(LABEL.vocab)\n",
    "embedding_size = 100\n",
    "hidden_counts = 75\n",
    "n_layers = 2\n",
    "bidirectional = True\n",
    "dropout = 0.2\n",
    "\n",
    "model = TextClassification(batch_size, vocabulary_size, embedding_size, hidden_counts, n_layers, bidirectional, dropout, n_class)"
   ]
  },
  {
   "cell_type": "code",
   "execution_count": 140,
   "metadata": {},
   "outputs": [
    {
     "data": {
      "text/plain": [
       "tensor([[ 0.0000,  0.0000,  0.0000,  ...,  0.0000,  0.0000,  0.0000],\n",
       "        [ 0.0000,  0.0000,  0.0000,  ...,  0.0000,  0.0000,  0.0000],\n",
       "        [-0.0382, -0.2449,  0.7281,  ..., -0.1459,  0.8278,  0.2706],\n",
       "        ...,\n",
       "        [ 0.7893,  0.6285, -0.4647,  ...,  0.0823,  0.8793, -0.0854],\n",
       "        [ 0.0091,  0.2810,  0.7356,  ..., -0.7508,  0.8967, -0.7631],\n",
       "        [ 0.6916,  0.7388,  0.4807,  ..., -0.0513,  0.6089, -0.1047]])"
      ]
     },
     "execution_count": 140,
     "metadata": {},
     "output_type": "execute_result"
    }
   ],
   "source": [
    "pretrained_embeddings = TEXT.vocab.vectors\n",
    "model.embedding.weight.data.copy_(pretrained_embeddings)"
   ]
  },
  {
   "cell_type": "code",
   "execution_count": 141,
   "metadata": {},
   "outputs": [],
   "source": [
    "def training(model, iterator, optimizer, criterion):\n",
    "    training_loss = 0\n",
    "    training_accuracy = 0\n",
    "    \n",
    "    model.train()\n",
    "    \n",
    "    for batch in iterator:\n",
    "        optimizer.zero_grad()\n",
    "        \n",
    "        text, text_lengths = batch.text\n",
    "        target = batch.label\n",
    "        target = torch.autograd.Variable(target).long()\n",
    "        \n",
    "        output = model(text, text_lengths).squeeze()\n",
    "        \n",
    "        loss = criterion(output, target)\n",
    "        \n",
    "        training_loss += loss.item()\n",
    "        \n",
    "        loss.backward()\n",
    "        optimizer.step()\n",
    "        \n",
    "        num_corrects = (torch.max(output, 1)[1].view(target.size()).data == target.data).float().sum()\n",
    "\n",
    "        acc = num_corrects/len(batch)\n",
    "        training_accuracy += acc.item()\n",
    "\n",
    "    scheduler.step()\n",
    "    \n",
    "    return training_loss / len(iterator), training_accuracy / len(iterator)\n",
    "\n",
    "def testing(model, iterator, optimizer, criterion):\n",
    "    testing_loss = 0\n",
    "    testing_accuracy = 0\n",
    "    model.eval()\n",
    "    \n",
    "    for batch in iterator:\n",
    "        text, text_lengths = batch.text\n",
    "        target = batch.label\n",
    "        target = torch.autograd.Variable(target).long()\n",
    "        \n",
    "        with torch.no_grad():\n",
    "            output = model(text, text_lengths).squeeze()\n",
    "            loss = criterion(output, target)\n",
    "            \n",
    "            testing_loss += loss.item()\n",
    "            num_corrects = (torch.max(output, 1)[1].view(target.size()).data == target.data).float().sum()\n",
    "            acc = num_corrects/len(batch)\n",
    "        \n",
    "            testing_accuracy += acc.item()\n",
    "            \n",
    "    return testing_loss / len(iterator), testing_accuracy / len(iterator)"
   ]
  },
  {
   "cell_type": "code",
   "execution_count": 142,
   "metadata": {},
   "outputs": [
    {
     "name": "stdout",
     "output_type": "stream",
     "text": [
      "Epoch: 1  | time in 2 minutes, 0 seconds\n",
      "\tLoss: 0.8056(train)\t|\tAcc: 70.34%(train)\n",
      "\tLoss: 0.5948(valid)\t|\tAcc: 79.41%(valid)\n",
      "Epoch: 2  | time in 1 minutes, 54 seconds\n",
      "\tLoss: 0.5125(train)\t|\tAcc: 82.58%(train)\n",
      "\tLoss: 0.5064(valid)\t|\tAcc: 82.50%(valid)\n",
      "Epoch: 3  | time in 1 minutes, 57 seconds\n",
      "\tLoss: 0.3718(train)\t|\tAcc: 86.98%(train)\n",
      "\tLoss: 0.4195(valid)\t|\tAcc: 85.82%(valid)\n",
      "Epoch: 4  | time in 2 minutes, 1 seconds\n",
      "\tLoss: 0.3050(train)\t|\tAcc: 89.63%(train)\n",
      "\tLoss: 0.3903(valid)\t|\tAcc: 86.52%(valid)\n",
      "Epoch: 5  | time in 1 minutes, 58 seconds\n",
      "\tLoss: 0.2631(train)\t|\tAcc: 90.77%(train)\n",
      "\tLoss: 0.3949(valid)\t|\tAcc: 87.04%(valid)\n"
     ]
    }
   ],
   "source": [
    "import time\n",
    "\n",
    "n_epochs = 5\n",
    "min_val_loss = float(\"inf\")\n",
    "\n",
    "criterion = nn.CrossEntropyLoss().to(device)\n",
    "optimizer = torch.optim.SGD(model.parameters(), lr=2)\n",
    "scheduler = torch.optim.lr_scheduler.StepLR(optimizer, 1, gamma=0.9)\n",
    "path='AG_news/model/saved_weights_self_attention_model.pt'\n",
    "\n",
    "for epoch in range(n_epochs):\n",
    "    start_time = time.time()\n",
    "    \n",
    "    train_loss, train_acc = training(model, train_iterator, optimizer, criterion)\n",
    "    val_loss, val_acc = testing(model, valid_iterator, optimizer, criterion)\n",
    "    \n",
    "    secs = int(time.time() - start_time)\n",
    "    mins = secs / 60\n",
    "    secs = secs % 60\n",
    "\n",
    "    print('Epoch: %d' %(epoch + 1), \" | time in %d minutes, %d seconds\" %(mins, secs))\n",
    "    print(f'\\tLoss: {train_loss:.4f}(train)\\t|\\tAcc: {train_acc * 100:.2f}%(train)')\n",
    "    print(f'\\tLoss: {val_loss:.4f}(valid)\\t|\\tAcc: {val_acc * 100:.2f}%(valid)')\n",
    "    \n",
    "    if val_loss < min_val_loss:\n",
    "        min_val_loss = val_loss\n",
    "        torch.save(model.state_dict(), path)"
   ]
  },
  {
   "cell_type": "code",
   "execution_count": 143,
   "metadata": {},
   "outputs": [],
   "source": [
    "testing_data=data.TabularDataset(path = 'AG_news/test.csv',format = 'csv',fields = fields,skip_header = True)"
   ]
  },
  {
   "cell_type": "code",
   "execution_count": 144,
   "metadata": {},
   "outputs": [],
   "source": [
    "testing_iterator = data.BucketIterator(testing_data, batch_size=batch_size,\n",
    "                                                           sort_key=lambda x: len(x.text),\n",
    "                                                           sort_within_batch=True,\n",
    "                                                           device=device)"
   ]
  },
  {
   "cell_type": "code",
   "execution_count": 145,
   "metadata": {},
   "outputs": [],
   "source": [
    "model.load_state_dict(torch.load(path))\n",
    "\n",
    "def predict(model, iterator):\n",
    "    testing_accuracy = 0\n",
    "    model.eval()\n",
    "    \n",
    "    for batch in iterator:\n",
    "        text, text_lengths = batch.text\n",
    "        # text = TEXT.preprocess(text)\n",
    "        label = batch.label\n",
    "        target = torch.autograd.Variable(label).long()\n",
    "        with torch.no_grad():\n",
    "            output = model(text, text_lengths).squeeze()\n",
    "            num_corrects = (torch.max(output, 1)[1].view(target.size()).data == target.data).float().sum()\n",
    "            acc = num_corrects / len(batch)\n",
    "            testing_accuracy += acc.item()\n",
    "    \n",
    "    return testing_accuracy / len(iterator)"
   ]
  },
  {
   "cell_type": "code",
   "execution_count": 146,
   "metadata": {},
   "outputs": [
    {
     "name": "stdout",
     "output_type": "stream",
     "text": [
      "Accuracy 86.37\n"
     ]
    }
   ],
   "source": [
    "test_acc = predict(model, testing_iterator)\n",
    "print(f\"Accuracy {test_acc * 100:.2f}\")"
   ]
  },
  {
   "cell_type": "code",
   "execution_count": 147,
   "metadata": {},
   "outputs": [
    {
     "name": "stdout",
     "output_type": "stream",
     "text": [
      "TextClassification(\n",
      "  (dropout): Dropout(p=0.2, inplace=False)\n",
      "  (embedding): Embedding(11540, 100)\n",
      "  (rnn): LSTM(100, 75, batch_first=True, bidirectional=True)\n",
      "  (W_s1): Linear(in_features=150, out_features=350, bias=True)\n",
      "  (W_s2): Linear(in_features=350, out_features=30, bias=True)\n",
      "  (fc1): Linear(in_features=4500, out_features=2000, bias=True)\n",
      "  (fc2): Linear(in_features=2000, out_features=4, bias=True)\n",
      "  (softmax): LogSoftmax()\n",
      ")\n"
     ]
    }
   ],
   "source": [
    "print(model)"
   ]
  },
  {
   "cell_type": "code",
   "execution_count": null,
   "metadata": {},
   "outputs": [],
   "source": []
  }
 ],
 "metadata": {
  "kernelspec": {
   "display_name": "Python 3",
   "language": "python",
   "name": "python3"
  },
  "language_info": {
   "codemirror_mode": {
    "name": "ipython",
    "version": 3
   },
   "file_extension": ".py",
   "mimetype": "text/x-python",
   "name": "python",
   "nbconvert_exporter": "python",
   "pygments_lexer": "ipython3",
   "version": "3.6.8"
  }
 },
 "nbformat": 4,
 "nbformat_minor": 2
}
